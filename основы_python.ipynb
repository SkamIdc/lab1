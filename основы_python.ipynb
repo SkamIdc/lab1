{
 "cells": [
  {
   "cell_type": "markdown",
   "metadata": {
    "id": "M-DGa20PaHnu"
   },
   "source": [
    "#Задача 1\n",
    "Написать функцию на вход которой подается строка, состоящая из латинских букв.\n",
    "Функция должна вернуть количество гласных букв (a, e, i, o, u) в этой строке. Написать тесты для кода"
   ]
  },
  {
   "cell_type": "code",
   "execution_count": 25,
   "metadata": {
    "id": "XvX8X_JJ6PCb"
   },
   "outputs": [],
   "source": [
    "letters = ['a','e','i','o','u']\n",
    "\n",
    "def f (st):\n",
    "    length = len(st)\n",
    "    count = 0\n",
    "    for i in range (length):\n",
    "        if st[i] in letters:\n",
    "            count+=1\n",
    "    return count\n",
    "\n",
    "\n",
    "def tests():    \n",
    "    assert f(\"Hello\") == 2\n",
    "    assert f(\"Hi !?o\") == 2\n",
    "    assert f(\"Zzz...\") == 0\n",
    "    assert f(\" \") == 0\n",
    "\n",
    "\n",
    "tests()"
   ]
  },
  {
   "cell_type": "markdown",
   "metadata": {
    "id": "t2ClV_Y0bbr6"
   },
   "source": [
    "# Задача 2\n",
    "Написать функцию на вход, которой подается строка. Функция должна вернуть true, если\n",
    "каждый символ в строке встречается только 1 раз, иначе должна вернуть false. Написать тесты для кода"
   ]
  },
  {
   "cell_type": "code",
   "execution_count": 24,
   "metadata": {
    "id": "FppbECao6VIz"
   },
   "outputs": [],
   "source": [
    "def f (st):\n",
    "    s = st\n",
    "    length = len(s)\n",
    "    letters = []\n",
    "    for i in range(length):\n",
    "        if s[i] in letters:\n",
    "            return 0\n",
    "        letters.append(s[i])\n",
    "    return 1\n",
    "\n",
    "\n",
    "def tests():  \n",
    "    assert f(\"Hello\") == False\n",
    "    assert f(\"Hi !?\") == True\n",
    "    assert f(\"Zzz...\") == False\n",
    "    assert f(\" \") == True\n",
    "    assert f(\" 2 \") == False\n",
    "\n",
    "\n",
    "tests()"
   ]
  },
  {
   "cell_type": "markdown",
   "metadata": {
    "id": "udRiIK1cdt6E"
   },
   "source": [
    "# Задача 3\n",
    "Написать функцию, которая принимает положительное число и возвращает количество\n",
    "бит равных 1 в этом числе. Написать тесты для кода"
   ]
  },
  {
   "cell_type": "code",
   "execution_count": 23,
   "metadata": {
    "id": "6tkfDJRz6dp_"
   },
   "outputs": [],
   "source": [
    "def binF (numb):\n",
    "    return bin(numb).count('1')\n",
    "\n",
    "\n",
    "def tests():\n",
    "    assert binF(1) == 1\n",
    "    assert binF(512) == 1\n",
    "    assert binF(8888) == 6\n",
    "\n",
    "\n",
    "tests()"
   ]
  },
  {
   "cell_type": "markdown",
   "metadata": {
    "id": "26dDUz-Ae17N"
   },
   "source": [
    "# Задача 4\n",
    "Написать функцию, которая принимает положительное число. Функция должна вернуть то,\n",
    "сколько раз необходимо перемножать цифры числа или результат перемножения, чтобы\n",
    "получилось число состоящее из одной цифры.\n",
    "Например, для входного числа:\n",
    "· 39 функция должна вернуть 3, так как 3*9=27 => 2*7=14 => 1*4=4\n",
    "· 4 функция должна вернуть 0, так как число уже состоит из одной цифры\n",
    "· 999 функция должна вернуть 4, так как 9*9*9=729 => 7*2*9=126 => 1*2*6=12 =>\n",
    "1*2=2. Написать тесты для кода"
   ]
  },
  {
   "cell_type": "code",
   "execution_count": 22,
   "metadata": {
    "id": "BH1A_Mgi6i4G"
   },
   "outputs": [],
   "source": [
    "def magic(n):\n",
    "    number = n\n",
    "    count = 0\n",
    "    while True:\n",
    "        if number < 10: return count\n",
    "        next_n = 1\n",
    "        while number > 0:\n",
    "            next_n *= number % 10\n",
    "            number //= 10\n",
    "        count += 1 \n",
    "        number = next_n\n",
    "\n",
    "\n",
    "def tests ():\n",
    "    assert magic(39) == 3\n",
    "    assert magic(4) == 0\n",
    "    assert magic(999) == 4\n",
    "    assert magic(721) == 2\n",
    "\n",
    "\n",
    "tests()"
   ]
  },
  {
   "cell_type": "markdown",
   "metadata": {
    "id": "0nS-kIa8g8vd"
   },
   "source": [
    "# Задача 5\n",
    "Написать функцию, которая принимает два целочисленных вектора одинаковой длины и\n",
    "возвращает среднеквадратическое отклонение двух векторов. Написать тесты для кода"
   ]
  },
  {
   "cell_type": "code",
   "execution_count": 26,
   "metadata": {
    "id": "8iphx4LM6xbx"
   },
   "outputs": [],
   "source": [
    "def mse(pred, true):\n",
    "    length = len(true)     \n",
    "    s = 0\n",
    "    for i in range(length):\n",
    "        s += (true[i] - pred[i])**2 \n",
    "    result = s / length\n",
    "    return result\n",
    "\n",
    "\n",
    "def tests():\n",
    "    assert mse([1, 2, 3, 4, 5], [1, 2, 3, 4, 5]) == 0\n",
    "    assert mse([2, 4, 6],[4, 6, 8]) == 4\n",
    "    assert mse([0],[-9]) == 81\n",
    "\n",
    "\n",
    "tests()"
   ]
  },
  {
   "cell_type": "markdown",
   "metadata": {
    "id": "vpIPKL439zkw"
   },
   "source": [
    "# Задача 6\n",
    "Написать функцию, принимающая целое положительное число. Функция должна вернуть\n",
    "строку вида “(n1 ** p1)(n2 ** p2)…(nk ** pk)” представляющая разложение числа на простые\n",
    "множители (если pi == 1, то выводить только ni).\n",
    "Например, для числа 86240 функция должна вернуть “ (2 ** 5)(5)(7 ** 2)(11)”. Написать тесты для кода"
   ]
  },
  {
   "cell_type": "code",
   "execution_count": 83,
   "metadata": {
    "id": "pFebmcZk94Jw"
   },
   "outputs": [
    {
     "name": "stdout",
     "output_type": "stream",
     "text": [
      "0\n",
      "2\n",
      "18\n",
      "571\n"
     ]
    }
   ],
   "source": [
    "def f(number):\n",
    "    if number == 1: return \"No prime factors\"\n",
    "    n = number\n",
    "    a = []\n",
    "    i = 2\n",
    "    while i < number**0.5 and n != 1:\n",
    "        if n%i==0:\n",
    "            a.append(i)\n",
    "            n //= i\n",
    "        else: i+=1  \n",
    "    if n != 1:\n",
    "        a.append(n)   \n",
    "    return write(a)\n",
    "\n",
    "def write(a):\n",
    "    s = \"\"\n",
    "    i = 0\n",
    "    while i < len(a):\n",
    "        pow = a.count(a[i])\n",
    "        if pow != 1:\n",
    "            s += f\"({str(a[i])}**{str(pow)})\"\n",
    "        else:\n",
    "            s += f\"({str(a[i])})\"\n",
    "        i += pow\n",
    "    return s\n",
    "\n",
    "\n",
    "def tests ():\n",
    "    assert f(2) == \"(2)\"\n",
    "    assert f(6) == \"(2)(3)\"\n",
    "    assert f(86240) == \"(2**5)(5)(7**2)(11)\"\n",
    "    assert f(321312) == \"(2**5)(3)(3347)\"\n",
    "    assert f(1) == \"No prime factors\"\n",
    "    \n",
    "tests()"
   ]
  },
  {
   "cell_type": "markdown",
   "metadata": {
    "id": "ps2s0BudX7A2"
   },
   "source": [
    "# Задача 7\n",
    "Написать функцию, принимающая целое число n, задающее количество кубиков. Функция\n",
    "должна определить, можно ли из данного кол-ва кубиков построить пирамиду, то есть\n",
    "можно ли представить число n как 1^2+2^2+3^2+…+k^2. Если можно, то функция должна\n",
    "вернуть k, иначе строку “It is impossible”. Написать тесты для кода"
   ]
  },
  {
   "cell_type": "code",
   "execution_count": 27,
   "metadata": {
    "id": "3YPjEXxhX_YT"
   },
   "outputs": [],
   "source": [
    "def pyramid(number):\n",
    "    if number <= 0:\n",
    "        return \"It is imposible\"\n",
    "        \n",
    "    n = number\n",
    "    i = 0\n",
    "    while n > 0:\n",
    "        i+=1\n",
    "        n -= i**2\n",
    "    if n==0:\n",
    "        return i\n",
    "    return \"It is imposible\"\n",
    "\n",
    "\n",
    "def tests ():\n",
    "    assert pyramid(0) == \"It is imposible\"\n",
    "    assert pyramid(1) == 1\n",
    "    assert pyramid(4) == \"It is imposible\"\n",
    "    assert pyramid(5) == 2\n",
    "    assert pyramid(55) == 5\n",
    "\n",
    "\n",
    "tests()"
   ]
  },
  {
   "cell_type": "markdown",
   "metadata": {
    "id": "KeKgmIdAQMEJ"
   },
   "source": [
    "# Задача 8\n",
    "Функция принимает на вход положительное число и определяет является ли оно сбалансированным, т.е. сумма цифр до средних равна сумме цифр после. Средними в случае нечетного числа цифр считать одну цифру, в случае четного - две средних. Написать тесты для кода"
   ]
  },
  {
   "cell_type": "code",
   "execution_count": 100,
   "metadata": {
    "id": "gMAAqtqlQrZt"
   },
   "outputs": [],
   "source": [
    "def f(number):\n",
    "    n = number\n",
    "    l = list(str(n))\n",
    "    length = len(l)-1\n",
    "    ser = (length+1)//2\n",
    "    sum = 0\n",
    "    for i in range(0,ser):\n",
    "        sum += int(l[i]) - int(l[length - i])\n",
    "    return sum == 0 \n",
    "\n",
    "\n",
    "def tests ():\n",
    "    assert f(9) == True\n",
    "    assert f(17) == False\n",
    "    assert f(77) == True\n",
    "    assert f(104) == False\n",
    "    assert f(404) == True\n",
    "    assert f(310013) == True\n",
    "\n",
    "\n",
    "tests()"
   ]
  },
  {
   "cell_type": "code",
   "execution_count": null,
   "metadata": {},
   "outputs": [],
   "source": []
  }
 ],
 "metadata": {
  "colab": {
   "provenance": []
  },
  "kernelspec": {
   "display_name": "Python 3 (ipykernel)",
   "language": "python",
   "name": "python3"
  },
  "language_info": {
   "codemirror_mode": {
    "name": "ipython",
    "version": 3
   },
   "file_extension": ".py",
   "mimetype": "text/x-python",
   "name": "python",
   "nbconvert_exporter": "python",
   "pygments_lexer": "ipython3",
   "version": "3.11.1"
  }
 },
 "nbformat": 4,
 "nbformat_minor": 4
}
